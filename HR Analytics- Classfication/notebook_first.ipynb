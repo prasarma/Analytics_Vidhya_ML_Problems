{
 "cells": [
  {
   "cell_type": "code",
   "execution_count": 13,
   "metadata": {
    "scrolled": true
   },
   "outputs": [],
   "source": [
    "# Importing data into system\n",
    "import pandas as pd\n",
    "import numpy as np\n",
    "import matplotlib.pyplot as plt\n",
    "import seaborn as sns\n",
    "\n",
    "dataset_train=pd.read_csv('train_2.csv')\n",
    "dataset_test=pd.read_csv('test_2.csv')\n"
   ]
  },
  {
   "cell_type": "code",
   "execution_count": 14,
   "metadata": {},
   "outputs": [
    {
     "name": "stdout",
     "output_type": "stream",
     "text": [
      "Index(['employee_id', 'department', 'region', 'education', 'gender',\n",
      "       'recruitment_channel', 'no_of_trainings', 'age', 'previous_year_rating',\n",
      "       'length_of_service', 'KPIs_met >80%', 'awards_won?',\n",
      "       'avg_training_score', 'is_promoted'],\n",
      "      dtype='object')\n",
      "Index(['employee_id', 'department', 'region', 'education', 'gender',\n",
      "       'recruitment_channel', 'no_of_trainings', 'age', 'previous_year_rating',\n",
      "       'length_of_service', 'KPIs_met >80%', 'awards_won?',\n",
      "       'avg_training_score'],\n",
      "      dtype='object')\n",
      "<class 'pandas.core.frame.DataFrame'>\n",
      "RangeIndex: 54808 entries, 0 to 54807\n",
      "Data columns (total 14 columns):\n",
      "employee_id             54808 non-null int64\n",
      "department              54808 non-null object\n",
      "region                  54808 non-null object\n",
      "education               52399 non-null object\n",
      "gender                  54808 non-null object\n",
      "recruitment_channel     54808 non-null object\n",
      "no_of_trainings         54808 non-null int64\n",
      "age                     54808 non-null int64\n",
      "previous_year_rating    50684 non-null float64\n",
      "length_of_service       54808 non-null int64\n",
      "KPIs_met >80%           54808 non-null int64\n",
      "awards_won?             54808 non-null int64\n",
      "avg_training_score      54808 non-null int64\n",
      "is_promoted             54808 non-null int64\n",
      "dtypes: float64(1), int64(8), object(5)\n",
      "memory usage: 5.9+ MB\n",
      "None\n",
      "   employee_id         department     region         education gender  \\\n",
      "0        65438  Sales & Marketing   region_7  Master's & above      f   \n",
      "1        65141         Operations  region_22        Bachelor's      m   \n",
      "2         7513  Sales & Marketing  region_19        Bachelor's      m   \n",
      "3         2542  Sales & Marketing  region_23        Bachelor's      m   \n",
      "4        48945         Technology  region_26        Bachelor's      m   \n",
      "\n",
      "  recruitment_channel  no_of_trainings  age  previous_year_rating  \\\n",
      "0            sourcing                1   35                   5.0   \n",
      "1               other                1   30                   5.0   \n",
      "2            sourcing                1   34                   3.0   \n",
      "3               other                2   39                   1.0   \n",
      "4               other                1   45                   3.0   \n",
      "\n",
      "   length_of_service  KPIs_met >80%  awards_won?  avg_training_score  \\\n",
      "0                  8              1            0                  49   \n",
      "1                  4              0            0                  60   \n",
      "2                  7              0            0                  50   \n",
      "3                 10              0            0                  50   \n",
      "4                  2              0            0                  73   \n",
      "\n",
      "   is_promoted  \n",
      "0            0  \n",
      "1            0  \n",
      "2            0  \n",
      "3            0  \n",
      "4            0  \n"
     ]
    }
   ],
   "source": [
    "# Checking the columns name\n",
    "print (dataset_train.columns)\n",
    "print (dataset_test.columns)\n",
    "print (dataset_train.info())\n",
    "print (dataset_train.head(5))"
   ]
  },
  {
   "cell_type": "code",
   "execution_count": null,
   "metadata": {
    "scrolled": true
   },
   "outputs": [],
   "source": []
  },
  {
   "cell_type": "code",
   "execution_count": 15,
   "metadata": {
    "scrolled": true
   },
   "outputs": [],
   "source": [
    "                                                                            # HANDLING MISSING DATA"
   ]
  },
  {
   "cell_type": "code",
   "execution_count": 16,
   "metadata": {
    "scrolled": true
   },
   "outputs": [
    {
     "name": "stdout",
     "output_type": "stream",
     "text": [
      "employee_id                0\n",
      "department                 0\n",
      "region                     0\n",
      "education               2409\n",
      "gender                     0\n",
      "recruitment_channel        0\n",
      "no_of_trainings            0\n",
      "age                        0\n",
      "previous_year_rating    4124\n",
      "length_of_service          0\n",
      "KPIs_met >80%              0\n",
      "awards_won?                0\n",
      "avg_training_score         0\n",
      "is_promoted                0\n",
      "dtype: int64 \n",
      "\n",
      "\n",
      "\n",
      "employee_id                0\n",
      "department                 0\n",
      "region                     0\n",
      "education               1034\n",
      "gender                     0\n",
      "recruitment_channel        0\n",
      "no_of_trainings            0\n",
      "age                        0\n",
      "previous_year_rating    1812\n",
      "length_of_service          0\n",
      "KPIs_met >80%              0\n",
      "awards_won?                0\n",
      "avg_training_score         0\n",
      "dtype: int64\n"
     ]
    }
   ],
   "source": [
    "# Checking null values in all columns\n",
    "print (dataset_train.isnull().sum(),'\\n\\n\\n')\n",
    "print (dataset_test.isnull().sum())"
   ]
  },
  {
   "cell_type": "code",
   "execution_count": 18,
   "metadata": {
    "scrolled": true
   },
   "outputs": [
    {
     "data": {
      "text/html": [
       "<div>\n",
       "<style scoped>\n",
       "    .dataframe tbody tr th:only-of-type {\n",
       "        vertical-align: middle;\n",
       "    }\n",
       "\n",
       "    .dataframe tbody tr th {\n",
       "        vertical-align: top;\n",
       "    }\n",
       "\n",
       "    .dataframe thead th {\n",
       "        text-align: right;\n",
       "    }\n",
       "</style>\n",
       "<table border=\"1\" class=\"dataframe\">\n",
       "  <thead>\n",
       "    <tr style=\"text-align: right;\">\n",
       "      <th></th>\n",
       "      <th>employee_id</th>\n",
       "      <th>no_of_trainings</th>\n",
       "      <th>age</th>\n",
       "      <th>previous_year_rating</th>\n",
       "      <th>length_of_service</th>\n",
       "      <th>KPIs_met &gt;80%</th>\n",
       "      <th>awards_won?</th>\n",
       "      <th>avg_training_score</th>\n",
       "      <th>is_promoted</th>\n",
       "    </tr>\n",
       "  </thead>\n",
       "  <tbody>\n",
       "    <tr>\n",
       "      <th>count</th>\n",
       "      <td>54808.000000</td>\n",
       "      <td>54808.000000</td>\n",
       "      <td>54808.000000</td>\n",
       "      <td>54808.000000</td>\n",
       "      <td>54808.000000</td>\n",
       "      <td>54808.000000</td>\n",
       "      <td>54808.000000</td>\n",
       "      <td>54808.000000</td>\n",
       "      <td>54808.000000</td>\n",
       "    </tr>\n",
       "    <tr>\n",
       "      <th>mean</th>\n",
       "      <td>39195.830627</td>\n",
       "      <td>1.253011</td>\n",
       "      <td>34.803915</td>\n",
       "      <td>3.304481</td>\n",
       "      <td>5.865512</td>\n",
       "      <td>0.351974</td>\n",
       "      <td>0.023172</td>\n",
       "      <td>63.386750</td>\n",
       "      <td>0.085170</td>\n",
       "    </tr>\n",
       "    <tr>\n",
       "      <th>std</th>\n",
       "      <td>22586.581449</td>\n",
       "      <td>0.609264</td>\n",
       "      <td>7.660169</td>\n",
       "      <td>1.214770</td>\n",
       "      <td>4.265094</td>\n",
       "      <td>0.477590</td>\n",
       "      <td>0.150450</td>\n",
       "      <td>13.371559</td>\n",
       "      <td>0.279137</td>\n",
       "    </tr>\n",
       "    <tr>\n",
       "      <th>min</th>\n",
       "      <td>1.000000</td>\n",
       "      <td>1.000000</td>\n",
       "      <td>20.000000</td>\n",
       "      <td>1.000000</td>\n",
       "      <td>1.000000</td>\n",
       "      <td>0.000000</td>\n",
       "      <td>0.000000</td>\n",
       "      <td>39.000000</td>\n",
       "      <td>0.000000</td>\n",
       "    </tr>\n",
       "    <tr>\n",
       "      <th>25%</th>\n",
       "      <td>19669.750000</td>\n",
       "      <td>1.000000</td>\n",
       "      <td>29.000000</td>\n",
       "      <td>3.000000</td>\n",
       "      <td>3.000000</td>\n",
       "      <td>0.000000</td>\n",
       "      <td>0.000000</td>\n",
       "      <td>51.000000</td>\n",
       "      <td>0.000000</td>\n",
       "    </tr>\n",
       "    <tr>\n",
       "      <th>50%</th>\n",
       "      <td>39225.500000</td>\n",
       "      <td>1.000000</td>\n",
       "      <td>33.000000</td>\n",
       "      <td>3.000000</td>\n",
       "      <td>5.000000</td>\n",
       "      <td>0.000000</td>\n",
       "      <td>0.000000</td>\n",
       "      <td>60.000000</td>\n",
       "      <td>0.000000</td>\n",
       "    </tr>\n",
       "    <tr>\n",
       "      <th>75%</th>\n",
       "      <td>58730.500000</td>\n",
       "      <td>1.000000</td>\n",
       "      <td>39.000000</td>\n",
       "      <td>4.000000</td>\n",
       "      <td>7.000000</td>\n",
       "      <td>1.000000</td>\n",
       "      <td>0.000000</td>\n",
       "      <td>76.000000</td>\n",
       "      <td>0.000000</td>\n",
       "    </tr>\n",
       "    <tr>\n",
       "      <th>max</th>\n",
       "      <td>78298.000000</td>\n",
       "      <td>10.000000</td>\n",
       "      <td>60.000000</td>\n",
       "      <td>5.000000</td>\n",
       "      <td>37.000000</td>\n",
       "      <td>1.000000</td>\n",
       "      <td>1.000000</td>\n",
       "      <td>99.000000</td>\n",
       "      <td>1.000000</td>\n",
       "    </tr>\n",
       "  </tbody>\n",
       "</table>\n",
       "</div>"
      ],
      "text/plain": [
       "        employee_id  no_of_trainings           age  previous_year_rating  \\\n",
       "count  54808.000000     54808.000000  54808.000000          54808.000000   \n",
       "mean   39195.830627         1.253011     34.803915              3.304481   \n",
       "std    22586.581449         0.609264      7.660169              1.214770   \n",
       "min        1.000000         1.000000     20.000000              1.000000   \n",
       "25%    19669.750000         1.000000     29.000000              3.000000   \n",
       "50%    39225.500000         1.000000     33.000000              3.000000   \n",
       "75%    58730.500000         1.000000     39.000000              4.000000   \n",
       "max    78298.000000        10.000000     60.000000              5.000000   \n",
       "\n",
       "       length_of_service  KPIs_met >80%   awards_won?  avg_training_score  \\\n",
       "count       54808.000000   54808.000000  54808.000000        54808.000000   \n",
       "mean            5.865512       0.351974      0.023172           63.386750   \n",
       "std             4.265094       0.477590      0.150450           13.371559   \n",
       "min             1.000000       0.000000      0.000000           39.000000   \n",
       "25%             3.000000       0.000000      0.000000           51.000000   \n",
       "50%             5.000000       0.000000      0.000000           60.000000   \n",
       "75%             7.000000       1.000000      0.000000           76.000000   \n",
       "max            37.000000       1.000000      1.000000           99.000000   \n",
       "\n",
       "        is_promoted  \n",
       "count  54808.000000  \n",
       "mean       0.085170  \n",
       "std        0.279137  \n",
       "min        0.000000  \n",
       "25%        0.000000  \n",
       "50%        0.000000  \n",
       "75%        0.000000  \n",
       "max        1.000000  "
      ]
     },
     "execution_count": 18,
     "metadata": {},
     "output_type": "execute_result"
    }
   ],
   "source": [
    "#Filling NAN values with \n",
    "dataset_train['education'].fillna(dataset_train['education'].mode()[0],inplace=True)\n",
    "dataset_train['previous_year_rating'].fillna(dataset_train['previous_year_rating'].mode()[0],inplace=True)\n",
    "dataset_test['education'].fillna(dataset_test['education'].mode()[0],inplace=True)\n",
    "dataset_test['previous_year_rating'].fillna(dataset_test['previous_year_rating'].mode()[0],inplace=True)\n",
    "#dataset_train['education'].info()\n",
    "dataset_train.describe()"
   ]
  },
  {
   "cell_type": "code",
   "execution_count": 7,
   "metadata": {
    "scrolled": true
   },
   "outputs": [],
   "source": [
    "                                                                                            # EDA Started"
   ]
  },
  {
   "cell_type": "code",
   "execution_count": 20,
   "metadata": {},
   "outputs": [],
   "source": [
    "#UNIVARIATE ANALYSIS   (CATEGORICAL and NUMERICAL)"
   ]
  },
  {
   "cell_type": "code",
   "execution_count": 21,
   "metadata": {},
   "outputs": [
    {
     "data": {
      "text/plain": [
       "<matplotlib.axes._subplots.AxesSubplot at 0xa394b58a58>"
      ]
     },
     "execution_count": 21,
     "metadata": {},
     "output_type": "execute_result"
    },
    {
     "data": {
      "image/png": "[encoded data removed]",
      "text/plain": [
       "<Figure size 432x288 with 1 Axes>"
      ]
     },
     "metadata": {
      "needs_background": "light"
     },
     "output_type": "display_data"
    }
   ],
   "source": [
    "#department column                                                         \n",
    "dataset_train['department'].value_counts().plot.bar()"
   ]
  },
  {
   "cell_type": "code",
   "execution_count": 22,
   "metadata": {},
   "outputs": [
    {
     "data": {
      "text/plain": [
       "<matplotlib.axes._subplots.AxesSubplot at 0xa3943b0e48>"
      ]
     },
     "execution_count": 22,
     "metadata": {},
     "output_type": "execute_result"
    },
    {
     "data": {
      "image/png": "[encoded data removed]",
      "text/plain": [
       "<Figure size 432x288 with 1 Axes>"
      ]
     },
     "metadata": {
      "needs_background": "light"
     },
     "output_type": "display_data"
    }
   ],
   "source": [
    "#Region column                                                         \n",
    "dataset_train['region'].value_counts(normalize=True).plot.bar()"
   ]
  },
  {
   "cell_type": "code",
   "execution_count": 23,
   "metadata": {},
   "outputs": [
    {
     "data": {
      "text/plain": [
       "<matplotlib.axes._subplots.AxesSubplot at 0xa3946b7588>"
      ]
     },
     "execution_count": 23,
     "metadata": {},
     "output_type": "execute_result"
    },
    {
     "data": {
      "image/png": "[encoded data removed]",
      "text/plain": [
       "<Figure size 432x288 with 1 Axes>"
      ]
     },
     "metadata": {
      "needs_background": "light"
     },
     "output_type": "display_data"
    }
   ],
   "source": [
    "# Education column\n",
    "sns.countplot(x='education',data=dataset_train)"
   ]
  },
  {
   "cell_type": "code",
   "execution_count": 24,
   "metadata": {},
   "outputs": [
    {
     "data": {
      "text/plain": [
       "<matplotlib.axes._subplots.AxesSubplot at 0xa3955f5860>"
      ]
     },
     "execution_count": 24,
     "metadata": {},
     "output_type": "execute_result"
    },
    {
     "data": {
      "image/png": "[encoded data removed]",
      "text/plain": [
       "<Figure size 432x288 with 1 Axes>"
      ]
     },
     "metadata": {
      "needs_background": "light"
     },
     "output_type": "display_data"
    }
   ],
   "source": [
    "# Gender column\n",
    "sns.countplot(x='gender',data=dataset_train)"
   ]
  },
  {
   "cell_type": "code",
   "execution_count": 25,
   "metadata": {},
   "outputs": [
    {
     "data": {
      "text/plain": [
       "<matplotlib.axes._subplots.AxesSubplot at 0xa3956614a8>"
      ]
     },
     "execution_count": 25,
     "metadata": {},
     "output_type": "execute_result"
    },
    {
     "data": {
      "image/png": "[encoded data removed]",
      "text/plain": [
       "<Figure size 432x288 with 1 Axes>"
      ]
     },
     "metadata": {
      "needs_background": "light"
     },
     "output_type": "display_data"
    }
   ],
   "source": [
    "#Region column                                                         \n",
    "dataset_train['recruitment_channel'].value_counts(normalize=True).plot.bar()"
   ]
  },
  {
   "cell_type": "code",
   "execution_count": 26,
   "metadata": {},
   "outputs": [
    {
     "data": {
      "text/plain": [
       "<matplotlib.axes._subplots.AxesSubplot at 0xa3956bc550>"
      ]
     },
     "execution_count": 26,
     "metadata": {},
     "output_type": "execute_result"
    },
    {
     "data": {
      "image/png": "[encoded data removed]",
      "text/plain": [
       "<Figure size 432x288 with 1 Axes>"
      ]
     },
     "metadata": {
      "needs_background": "light"
     },
     "output_type": "display_data"
    }
   ],
   "source": [
    "# No of Trainings column\n",
    "sns.countplot(x='no_of_trainings',data=dataset_train)"
   ]
  },
  {
   "cell_type": "code",
   "execution_count": 27,
   "metadata": {},
   "outputs": [
    {
     "data": {
      "text/plain": [
       "<matplotlib.axes._subplots.AxesSubplot at 0xa395732c18>"
      ]
     },
     "execution_count": 27,
     "metadata": {},
     "output_type": "execute_result"
    },
    {
     "data": {
      "image/png": "[encoded data removed]",
      "text/plain": [
       "<Figure size 432x288 with 1 Axes>"
      ]
     },
     "metadata": {
      "needs_background": "light"
     },
     "output_type": "display_data"
    }
   ],
   "source": [
    "# Age column\n",
    "sns.countplot(x='age',data=dataset_train)"
   ]
  },
  {
   "cell_type": "code",
   "execution_count": 28,
   "metadata": {},
   "outputs": [
    {
     "data": {
      "text/plain": [
       "<matplotlib.axes._subplots.AxesSubplot at 0xa395861710>"
      ]
     },
     "execution_count": 28,
     "metadata": {},
     "output_type": "execute_result"
    },
    {
     "data": {
      "image/png": "[encoded data removed]",
      "text/plain": [
       "<Figure size 432x288 with 1 Axes>"
      ]
     },
     "metadata": {
      "needs_background": "light"
     },
     "output_type": "display_data"
    }
   ],
   "source": [
    "# Previous year rating column\n",
    "sns.countplot(x='previous_year_rating',data=dataset_train)"
   ]
  },
  {
   "cell_type": "code",
   "execution_count": 29,
   "metadata": {},
   "outputs": [
    {
     "data": {
      "text/plain": [
       "<matplotlib.axes._subplots.AxesSubplot at 0xa395899b38>"
      ]
     },
     "execution_count": 29,
     "metadata": {},
     "output_type": "execute_result"
    },
    {
     "data": {
      "image/png": "[encoded data removed]",
      "text/plain": [
       "<Figure size 432x288 with 1 Axes>"
      ]
     },
     "metadata": {
      "needs_background": "light"
     },
     "output_type": "display_data"
    }
   ],
   "source": [
    "# Length of service column\n",
    "sns.countplot(x='length_of_service',data=dataset_train)"
   ]
  },
  {
   "cell_type": "code",
   "execution_count": 30,
   "metadata": {},
   "outputs": [
    {
     "data": {
      "text/plain": [
       "<matplotlib.axes._subplots.AxesSubplot at 0xa3959d4208>"
      ]
     },
     "execution_count": 30,
     "metadata": {},
     "output_type": "execute_result"
    },
    {
     "data": {
      "image/png": "[encoded data removed]",
      "text/plain": [
       "<Figure size 432x288 with 1 Axes>"
      ]
     },
     "metadata": {
      "needs_background": "light"
     },
     "output_type": "display_data"
    }
   ],
   "source": [
    "#kpi met 80\n",
    "sns.countplot(x='KPIs_met >80%',data=dataset_train)"
   ]
  },
  {
   "cell_type": "code",
   "execution_count": 31,
   "metadata": {},
   "outputs": [
    {
     "data": {
      "text/plain": [
       "<matplotlib.axes._subplots.AxesSubplot at 0xa395a1e358>"
      ]
     },
     "execution_count": 31,
     "metadata": {},
     "output_type": "execute_result"
    },
    {
     "data": {
      "image/png": "[encoded data removed]",
      "text/plain": [
       "<Figure size 432x288 with 1 Axes>"
      ]
     },
     "metadata": {
      "needs_background": "light"
     },
     "output_type": "display_data"
    }
   ],
   "source": [
    "#Average Training score\n",
    "sns.countplot(x='avg_training_score',data=dataset_train)"
   ]
  },
  {
   "cell_type": "code",
   "execution_count": null,
   "metadata": {},
   "outputs": [],
   "source": [
    "#BIVARIATE ANALYSIS"
   ]
  },
  {
   "cell_type": "code",
   "execution_count": 35,
   "metadata": {},
   "outputs": [
    {
     "data": {
      "image/png": "[encoded data removed]",
      "text/plain": [
       "<Figure size 432x288 with 1 Axes>"
      ]
     },
     "metadata": {
      "needs_background": "light"
     },
     "output_type": "display_data"
    }
   ],
   "source": [
    "# Creating two tabs one on another(categorical vs Target(categorical)\n",
    "# Department vs Ispromoted \n",
    "dept_lnst=pd.crosstab(dataset_train.department,dataset_train['is_promoted'])\n",
    "dept_lnst.div(dept_lnst.sum(1).astype(float), axis=0).plot(kind=\"bar\", stacked=True)\n",
    "plt.xlabel('department')\n",
    "plt.ylabel('count')\n",
    "plt.xticks(rotation=45)\n",
    "plt.show()\n"
   ]
  },
  {
   "cell_type": "code",
   "execution_count": 34,
   "metadata": {},
   "outputs": [
    {
     "data": {
      "text/plain": [
       "<matplotlib.axes._subplots.AxesSubplot at 0xa395861160>"
      ]
     },
     "execution_count": 34,
     "metadata": {},
     "output_type": "execute_result"
    },
    {
     "data": {
      "image/png": "[encoded data removed]",
      "text/plain": [
       "<Figure size 432x288 with 1 Axes>"
      ]
     },
     "metadata": {
      "needs_background": "light"
     },
     "output_type": "display_data"
    }
   ],
   "source": [
    "# Education vs Ispromoted\n",
    "sns.countplot(x='education', hue='is_promoted', data=dataset_train)\n"
   ]
  },
  {
   "cell_type": "code",
   "execution_count": null,
   "metadata": {},
   "outputs": [],
   "source": []
  },
  {
   "cell_type": "code",
   "execution_count": 30,
   "metadata": {
    "scrolled": true
   },
   "outputs": [],
   "source": [
    "                                                                                            # EDA ENDED"
   ]
  },
  {
   "cell_type": "code",
   "execution_count": null,
   "metadata": {},
   "outputs": [],
   "source": [
    "                                                                                            # PREPARING FINAL DATA "
   ]
  },
  {
   "cell_type": "code",
   "execution_count": null,
   "metadata": {},
   "outputs": [],
   "source": [
    "#Removing id column\n",
    "dataset_train.drop(['employee_id'],axis=1)\n",
    "dataset_train.drop(['employee_id'],axis=1)"
   ]
  },
  {
   "cell_type": "code",
   "execution_count": 31,
   "metadata": {
    "scrolled": true
   },
   "outputs": [],
   "source": [
    "# Creating Label Encoder ( genders male ,female ⇒ 0,1) \n",
    "from sklearn.preprocessing import LabelEncoder\n",
    "le = LabelEncoder()\n",
    "dataset_train['department'] = le.fit_transform(dataset_train['department'])\n",
    "dataset_train['education']=le.fit_transform(dataset_train['education'])\n",
    "dataset_train['region']=le.fit_transform(dataset_train['region'])\n",
    "dataset_train['gender']=le.fit_transform(dataset_train['gender'])\n",
    "dataset_train['recruitment_channel']=le.fit_transform(dataset_train['recruitment_channel'])\n",
    "\n",
    "dataset_test['department'] = le.fit_transform(dataset_test['department'])\n",
    "dataset_test['education']=le.fit_transform(dataset_test['education'])\n",
    "dataset_test['region']=le.fit_transform(dataset_test['region'])\n",
    "dataset_test['gender']=le.fit_transform(dataset_test['gender'])\n",
    "dataset_test['recruitment_channel']=le.fit_transform(dataset_test['recruitment_channel'])"
   ]
  },
  {
   "cell_type": "code",
   "execution_count": 32,
   "metadata": {
    "scrolled": true
   },
   "outputs": [],
   "source": [
    "# Create dummy variables for the columns for single columns and append it to the data\n",
    "dataset_train = pd.concat([dataset_train, pd.get_dummies(dataset_train['department'], prefix='dept_')], axis=1)\n",
    "dataset_test = pd.concat([dataset_test, pd.get_dummies(dataset_test['department'], prefix='dept_')], axis=1)\n",
    "\n",
    "dataset_train = pd.concat([dataset_train, pd.get_dummies(dataset_train['region'],prefix='region_')], axis=1)\n",
    "dataset_test = pd.concat([dataset_test, pd.get_dummies(dataset_test['region'],prefix='region_')], axis=1)\n",
    "\n",
    "dataset_train = pd.concat([dataset_train, pd.get_dummies(dataset_train['education'],prefix='education_')], axis=1)\n",
    "dataset_test = pd.concat([dataset_test, pd.get_dummies(dataset_test['education'],prefix='education_')], axis=1)\n",
    "\n",
    "\n",
    "dataset_train = pd.concat([dataset_train, pd.get_dummies(dataset_train['gender'],prefix='gender_')], axis=1)\n",
    "dataset_test = pd.concat([dataset_test, pd.get_dummies(dataset_test['gender'],prefix='gender_')], axis=1)\n",
    "\n",
    "dataset_train = pd.concat([dataset_train, pd.get_dummies(dataset_train['recruitment_channel'],prefix='recchan_')], axis=1)\n",
    "dataset_test = pd.concat([dataset_test, pd.get_dummies(dataset_test['recruitment_channel'],prefix='recchan_')], axis=1)\n",
    "\n",
    "dataset_train=dataset_train.drop(['department','region','education','gender','recruitment_channel'], axis=1)\n",
    "dataset_test=dataset_test.drop(['department','region','education','gender','recruitment_channel'], axis=1)"
   ]
  },
  {
   "cell_type": "code",
   "execution_count": 33,
   "metadata": {
    "scrolled": true
   },
   "outputs": [],
   "source": [
    "# preparing x and y for \n",
    "y=dataset_train.is_promoted\n",
    "x=dataset_train.drop(['is_promoted'],axis=1)"
   ]
  },
  {
   "cell_type": "code",
   "execution_count": 34,
   "metadata": {
    "scrolled": true
   },
   "outputs": [],
   "source": [
    "#splitting the data into Training and Testing Data\n",
    "from sklearn.model_selection import train_test_split\n",
    "x_train,x_cv,y_train,y_cv=train_test_split(x,y,test_size=0.3,random_state=0)"
   ]
  },
  {
   "cell_type": "code",
   "execution_count": null,
   "metadata": {},
   "outputs": [],
   "source": [
    "                                                                                    # PREPARING FINAL DATA  ENDS"
   ]
  },
  {
   "cell_type": "code",
   "execution_count": 35,
   "metadata": {
    "scrolled": false
   },
   "outputs": [
    {
     "name": "stdout",
     "output_type": "stream",
     "text": [
      "5\n"
     ]
    }
   ],
   "source": [
    "                                                                                    # MACHINE LEARNING MODEL (K FOLD CV)                         \n",
    "cross_vald=5\n",
    "print(cross_vald)"
   ]
  },
  {
   "cell_type": "code",
   "execution_count": 40,
   "metadata": {
    "scrolled": true
   },
   "outputs": [
    {
     "name": "stdout",
     "output_type": "stream",
     "text": [
      "0.0237872118207933\n"
     ]
    }
   ],
   "source": [
    "# 2.K-NN with K fold validation\n",
    "\n",
    "from sklearn.neighbors import KNeighborsClassifier\n",
    "from sklearn.model_selection import StratifiedKFold\n",
    "from sklearn.metrics import confusion_matrix,accuracy_score,f1_score\n",
    "kf = StratifiedKFold(n_splits=5,random_state=1,shuffle=True)\n",
    "accuracy_knn_kfold=0\n",
    "for train_index,test_index in kf.split(x,y):\n",
    "\n",
    "    # Fitting the data into model\n",
    "    \n",
    "    xtr,xvl = x.loc[train_index],x.loc[test_index]\n",
    "    ytr,yvl = y[train_index],y[test_index]\n",
    "    classifier_knn_kfold = KNeighborsClassifier()\n",
    "    classifier_knn_kfold.fit(xtr, ytr)\n",
    "    \n",
    "    # Predicting the test set result for \n",
    "\n",
    "    y_pref_knn_kfold = classifier_knn_kfold.predict(xvl)\n",
    "    \n",
    "    # Summing all the accuracies\n",
    "    accuracy_knn_kfold += f1_score(yvl,y_pref_knn_kfold)\n",
    "    \n",
    "# Taking the average of K fold    \n",
    "    \n",
    "accuracy_knn_kfold/=cross_vald\n",
    "print (accuracy_knn_kfold)\n"
   ]
  },
  {
   "cell_type": "code",
   "execution_count": 42,
   "metadata": {},
   "outputs": [
    {
     "name": "stdout",
     "output_type": "stream",
     "text": [
      "0.056948581631106034\n"
     ]
    }
   ],
   "source": [
    "# 4. Naive Bayes with K fold validation\n",
    "\n",
    "from sklearn.naive_bayes import GaussianNB\n",
    "from sklearn.model_selection import StratifiedKFold\n",
    "from sklearn.metrics import confusion_matrix,accuracy_score,f1_score\n",
    "kf = StratifiedKFold(n_splits=5,random_state=1,shuffle=True)\n",
    "accuracy_nb_kfold=0\n",
    "for train_index,test_index in kf.split(x,y):\n",
    "\n",
    "    # Fitting the data into model\n",
    "    \n",
    "    xtr,xvl = x.loc[train_index],x.loc[test_index]\n",
    "    ytr,yvl = y[train_index],y[test_index]\n",
    "    classifier_nb_kfold = GaussianNB()\n",
    "    classifier_nb_kfold.fit(xtr, ytr)\n",
    "    \n",
    "    # Predicting the test set result for \n",
    "\n",
    "    y_pref_nb_kfold = classifier_nb_kfold.predict(xvl)\n",
    "    \n",
    "    # Summing all the accuracies \n",
    "    \n",
    "    accuracy_nb_kfold += f1_score(yvl,y_pref_nb_kfold)\n",
    "    \n",
    "# Taking the average of K fold    \n",
    "    \n",
    "accuracy_nb_kfold/=cross_vald\n",
    "print (accuracy_nb_kfold)"
   ]
  },
  {
   "cell_type": "code",
   "execution_count": 43,
   "metadata": {},
   "outputs": [
    {
     "name": "stdout",
     "output_type": "stream",
     "text": [
      "0.43136775762314566\n"
     ]
    }
   ],
   "source": [
    "# 5. Decision Tree with K fold validation\n",
    "\n",
    "from sklearn.tree import DecisionTreeClassifier\n",
    "from sklearn.model_selection import StratifiedKFold\n",
    "from sklearn.metrics import confusion_matrix,accuracy_score,f1_score\n",
    "kf = StratifiedKFold(n_splits=5,random_state=1,shuffle=True)\n",
    "accuracy_dectree_kfold=0\n",
    "for train_index,test_index in kf.split(x,y):\n",
    "\n",
    "    # Fitting the data into model\n",
    "    \n",
    "    xtr,xvl = x.loc[train_index],x.loc[test_index]\n",
    "    ytr,yvl = y[train_index],y[test_index]\n",
    "    classifier_dectree_kfold = DecisionTreeClassifier()\n",
    "    classifier_dectree_kfold.fit(xtr, ytr)\n",
    "    \n",
    "    # Predicting the test set result for \n",
    "\n",
    "    y_pref_dectree_kfold = classifier_dectree_kfold.predict(xvl)\n",
    "    \n",
    "    # Summing all the accuracies \n",
    "    \n",
    "    accuracy_dectree_kfold +=f1_score(yvl,y_pref_dectree_kfold)\n",
    "    \n",
    "# Taking the average of K fold    \n",
    "    \n",
    "accuracy_dectree_kfold/=cross_vald\n",
    "print (accuracy_dectree_kfold)"
   ]
  },
  {
   "cell_type": "code",
   "execution_count": 47,
   "metadata": {},
   "outputs": [
    {
     "name": "stdout",
     "output_type": "stream",
     "text": [
      "0.3968748765584156\n"
     ]
    }
   ],
   "source": [
    "# 6. Random Forest with K fold validation\n",
    "\n",
    "from sklearn.ensemble import RandomForestClassifier\n",
    "from sklearn.model_selection import StratifiedKFold\n",
    "from sklearn.metrics import confusion_matrix,accuracy_score,f1_score\n",
    "kf = StratifiedKFold(n_splits=5,random_state=1,shuffle=True)\n",
    "accuracy_rf_kfold=0\n",
    "for train_index,test_index in kf.split(x,y):\n",
    "\n",
    "    # Fitting the data into model\n",
    "    \n",
    "    xtr,xvl = x.loc[train_index],x.loc[test_index]\n",
    "    ytr,yvl = y[train_index],y[test_index]\n",
    "    classifier_rf_kfold = RandomForestClassifier(n_estimators=100)\n",
    "    classifier_rf_kfold.fit(xtr, ytr)\n",
    "    \n",
    "    # Predicting the test set result for \n",
    "\n",
    "    y_pref_rf_kfold = classifier_rf_kfold.predict(xvl)\n",
    "    \n",
    "    # Summing all the accuracies \n",
    "    \n",
    "    accuracy_rf_kfold += f1_score(yvl,y_pref_rf_kfold)\n",
    "    \n",
    "# Taking the average of K fold    \n",
    "    \n",
    "accuracy_rf_kfold/=cross_vald\n",
    "print (accuracy_rf_kfold)"
   ]
  },
  {
   "cell_type": "code",
   "execution_count": 46,
   "metadata": {},
   "outputs": [
    {
     "name": "stdout",
     "output_type": "stream",
     "text": [
      "0.4382348152775702\n"
     ]
    }
   ],
   "source": [
    "# 7. XGBoost with K fold validation\n",
    "\n",
    "from xgboost import XGBClassifier\n",
    "from sklearn.model_selection import StratifiedKFold\n",
    "from xgboost import XGBClassifier\n",
    "from sklearn.metrics import confusion_matrix,accuracy_score,f1_score\n",
    "kf = StratifiedKFold(n_splits=5,random_state=1,shuffle=True)\n",
    "accuracy_xgb_kfold=0\n",
    "for train_index,test_index in kf.split(x,y):\n",
    "\n",
    "    # Fitting the data into model\n",
    "    \n",
    "    xtr,xvl = x.loc[train_index],x.loc[test_index]\n",
    "    ytr,yvl = y[train_index],y[test_index]\n",
    "    classifier_xgb_kfold = XGBClassifier()\n",
    "    classifier_xgb_kfold.fit(xtr, ytr)\n",
    "    \n",
    "    # Predicting the test set result for \n",
    "\n",
    "    y_pref_xgb_kfold = classifier_xgb_kfold.predict(xvl)\n",
    "    \n",
    "    # Summing all the accuracies \n",
    "    \n",
    "    accuracy_xgb_kfold += f1_score(yvl,y_pref_xgb_kfold)\n",
    "    \n",
    "# Taking the average of K fold    \n",
    "    \n",
    "accuracy_xgb_kfold/=cross_vald\n",
    "print (accuracy_xgb_kfold)"
   ]
  },
  {
   "cell_type": "code",
   "execution_count": 49,
   "metadata": {},
   "outputs": [
    {
     "name": "stdout",
     "output_type": "stream",
     "text": [
      "0.5025797068865228\n"
     ]
    }
   ],
   "source": [
    "#  9.  Light Gradient Boosting Machines with K fold validation\n",
    "\n",
    "from lightgbm import LGBMClassifier\n",
    "from sklearn.model_selection import StratifiedKFold\n",
    "from sklearn.metrics import confusion_matrix,accuracy_score,f1_score\n",
    "kf = StratifiedKFold(n_splits=5,random_state=1,shuffle=True)\n",
    "accuracy_lgbm_kfold=0\n",
    "for train_index,test_index in kf.split(x,y):\n",
    "\n",
    "    # Fitting the data into model\n",
    "    \n",
    "    xtr,xvl = x.loc[train_index],x.loc[test_index]\n",
    "    ytr,yvl = y[train_index],y[test_index]\n",
    "    classifier_lgbm_kfold = LGBMClassifier()\n",
    "    classifier_lgbm_kfold.fit(xtr, ytr)\n",
    "    \n",
    "    # Predicting the test set result for \n",
    "\n",
    "    y_pref_lgbm_kfold = classifier_lgbm_kfold.predict(xvl)\n",
    "    \n",
    "    # Summing all the accuracies    \n",
    "    accuracy_lgbm_kfold += f1_score(yvl,y_pref_lgbm_kfold)\n",
    "    \n",
    "# Taking the average of K fold    \n",
    "    \n",
    "accuracy_lgbm_kfold/=cross_vald\n",
    "print (accuracy_lgbm_kfold)"
   ]
  },
  {
   "cell_type": "code",
   "execution_count": 52,
   "metadata": {},
   "outputs": [],
   "source": [
    "                                                                                  # MACHINE LEARNING MODEL (GRID SEARCH,CV = 5)\n",
    "cross_vald = 5\n",
    "scoring_mec = 'f1'"
   ]
  },
  {
   "cell_type": "code",
   "execution_count": 54,
   "metadata": {},
   "outputs": [
    {
     "name": "stdout",
     "output_type": "stream",
     "text": [
      "0.023370083766699083\n",
      "{'algorithm': 'auto', 'leaf_size': 30, 'metric': 'minkowski', 'metric_params': None, 'n_neighbors': 5, 'p': 2, 'weights': 'uniform'}\n"
     ]
    }
   ],
   "source": [
    "# 2. Grid Search with KNN\n",
    "\n",
    "from sklearn.neighbors import KNeighborsClassifier\n",
    "from sklearn.model_selection import GridSearchCV\n",
    "parameters = [{\n",
    "        \n",
    "'n_neighbors':[5],# int , default = 5, no of neighbours used by the classifier\n",
    "'leaf_size':[30],# Leaf size passed to BallTree or KDTree, int , default = 30\n",
    "'algorithm':['auto'],# {‘auto’, ‘ball_tree’, ‘kd_tree’, ‘brute’}, default = auto (decide best algo)\n",
    "'metric':['minkowski'],# default = 2\n",
    "'metric_params' : [None], # default = None\n",
    "'p' : [2], # default = 2\n",
    "'weights' : ['uniform']#{'uniform','distance'}, default = uniform\n",
    "                                       }]\n",
    "classifier_knn = KNeighborsClassifier()\n",
    "grid_search_knn = GridSearchCV(estimator = classifier_knn,\n",
    "                           param_grid = parameters,\n",
    "                           scoring = scoring_mec,\n",
    "                           cv = cross_vald,\n",
    "                           n_jobs = -1)\n",
    "grid_search_knn = grid_search_knn.fit(x, y)\n",
    "accuracy_knn_grid= grid_search_knn.best_score_\n",
    "bestparam_knn_grid = grid_search_knn.best_params_\n",
    "print (accuracy_knn_grid)\n",
    "print (bestparam_knn_grid)\n"
   ]
  },
  {
   "cell_type": "code",
   "execution_count": 55,
   "metadata": {},
   "outputs": [
    {
     "name": "stderr",
     "output_type": "stream",
     "text": [
      "C:\\Users\\Vijay Patil\\Anaconda3\\lib\\site-packages\\sklearn\\tree\\tree.py:297: DeprecationWarning: The min_impurity_split parameter is deprecated. Its default value will change from 1e-7 to 0 in version 0.23, and it will be removed in 0.25. Use the min_impurity_decrease parameter instead.\n",
      "  DeprecationWarning)\n"
     ]
    },
    {
     "name": "stdout",
     "output_type": "stream",
     "text": [
      "0.4875371369168002\n",
      "{'class_weight': None, 'criterion': 'entropy', 'max_depth': 13, 'max_features': None, 'max_leaf_nodes': None, 'min_impurity_decrease': 0.0, 'min_impurity_split': 0.01, 'min_samples_leaf': 6, 'min_samples_split': 13, 'min_weight_fraction_leaf': 0, 'presort': False, 'splitter': 'best'}\n"
     ]
    }
   ],
   "source": [
    "# 5. Grid Search with Decision Tree\n",
    "\n",
    "from sklearn.tree import DecisionTreeClassifier\n",
    "from sklearn.model_selection import GridSearchCV\n",
    "\n",
    "parameters = {\n",
    "'class_weight':[None],# same\n",
    "'criterion':['gini','entropy'], # {'gini', 'entropy'}, function to measure the quality of a split , def= 'gini'\n",
    "'max_features': [None],# {'auto', 'sqrt', 'log2'}\n",
    "'max_depth' : [13], # int , default = None\n",
    "'max_leaf_nodes' : [None], # int , default = None\n",
    "'min_impurity_decrease' : [0.0], # Float, default  = 0\n",
    "'min_impurity_split' : [0,.01,.05],# Float, default = 0.0000001\n",
    "'min_samples_leaf':[6], # int , default = 1\n",
    "'min_samples_split': [13], # int , default = 2\n",
    "'min_weight_fraction_leaf' : [0,.1,.5],# float ,default = 0\n",
    "'splitter' : ['best'], # {'best','random'}\n",
    "'presort' : [False],\n",
    "\n",
    "                                }\n",
    "\n",
    "classifier_dectree = DecisionTreeClassifier(random_state = 0)\n",
    "grid_search_dectree = GridSearchCV(estimator = classifier_dectree,\n",
    "                           param_grid = parameters,\n",
    "                           scoring =scoring_mec,\n",
    "                           cv = cross_vald,\n",
    "                           n_jobs = -1)\n",
    "grid_search_dectree = grid_search_dectree.fit(x, y)\n",
    "accuracy_dectree_grid= grid_search_dectree.best_score_\n",
    "bestparam_dectree_grid = grid_search_dectree.best_params_\n",
    "print (accuracy_dectree_grid)\n",
    "print (bestparam_dectree_grid)"
   ]
  },
  {
   "cell_type": "code",
   "execution_count": 56,
   "metadata": {},
   "outputs": [
    {
     "name": "stdout",
     "output_type": "stream",
     "text": [
      "0.36269459892746003\n",
      "{'bootstrap': True, 'class_weight': None, 'criterion': 'gini', 'max_depth': None, 'max_features': 'auto', 'max_leaf_nodes': None, 'min_impurity_decrease': 0.0, 'min_impurity_split': None, 'min_samples_leaf': 1, 'min_samples_split': 2, 'min_weight_fraction_leaf': 0.0, 'n_estimators': 10}\n"
     ]
    }
   ],
   "source": [
    "# 6. Grid Search with Random Forest\n",
    "\n",
    "from sklearn.ensemble import RandomForestClassifier\n",
    "from sklearn.model_selection import GridSearchCV\n",
    "\n",
    "parameters= {\n",
    "'bootstrap': [True],# boolean, default = True\n",
    "'class_weight' : [None],\n",
    "'criterion':['gini'],# {'gini', 'entropy'}, function to measure the quality of a split , def= 'gini'\n",
    "'n_estimators':[10],# int , default = 10, The number of trees in the forest.\n",
    "'max_depth' : [None],# int , default = None\n",
    "'max_features':['auto'], # {'auto', 'sqrt', 'log2'}\n",
    "'max_leaf_nodes': [None],# int , default = None\n",
    "'min_impurity_decrease' : [0.0], # Float, default  = 0\n",
    "'min_impurity_split' : [None],# int , default = 2\n",
    "'min_samples_leaf'  : [1],# int , default = 1\n",
    "'min_samples_split': [2], # int , default = 2\n",
    "'min_weight_fraction_leaf': [0.0]# float ,default = 0\n",
    "                                    }\n",
    "\n",
    "classifier_rf = RandomForestClassifier(random_state = 0)\n",
    "grid_search_rf = GridSearchCV(estimator = classifier_rf,\n",
    "                           param_grid = parameters,\n",
    "                           scoring =scoring_mec,\n",
    "                           cv = cross_vald,\n",
    "                           n_jobs = -1)\n",
    "grid_search_rf = grid_search_rf.fit(x, y)\n",
    "accuracy_rf_grid = grid_search_rf.best_score_\n",
    "bestparam_rf_grid = grid_search_rf.best_params_\n",
    "print (accuracy_rf_grid)\n",
    "print (bestparam_rf_grid)"
   ]
  },
  {
   "cell_type": "code",
   "execution_count": 58,
   "metadata": {},
   "outputs": [
    {
     "name": "stdout",
     "output_type": "stream",
     "text": [
      "0.49607906195775714\n",
      "{'base_score': 0.5, 'booster': 'gbtree', 'colsample_bylevel': 1, 'colsample_bytree': 0.7, 'gamma': 0, 'learning_rate': 0.1, 'max_delta_step': 0, 'max_depth': 10, 'min_child_weight': 5, 'n_estimators': 100, 'nthread': None, 'objective': 'binary:logistic', 'reg_alpha': 0, 'reg_lambda': 1, 'scale_pos_weight': 1, 'seed': None, 'silent': True, 'subsample': 0.7}\n"
     ]
    }
   ],
   "source": [
    "# 7. Grid Search with XGBoost\n",
    "\n",
    "from xgboost import XGBClassifier\n",
    "from sklearn.model_selection import GridSearchCV\n",
    "\n",
    "parameters = {\n",
    "'base_score' : [0.5],# defrault = 0.5\n",
    "'booster' : ['gbtree'], # {gbtree,gblinear,dart} \n",
    "'colsample_bylevel' : [1],# default = 1, rane(0.00001,1)\n",
    "'colsample_bytree' : [.7],# default = 1, rane(0.00001,1)\n",
    "'gamma' : [0],# default = 0 range (0,infinity)\n",
    "'learning_rate' : [0.1], # default =.3, range(0,1)\n",
    "'max_depth' : [10], # default = 6, range(0,infinity),Increasing this value will make the model more complex and more likely to overfit.\n",
    "'max_delta_step' : [0], # default = 0,range(0,infinity)\n",
    "'min_child_weight' : [5],# default = 1,range(0,infinity)\n",
    "'n_estimators' : [100],# int , default = 10, The number of trees in the forest.\n",
    "'nthread'  : [None],# same\n",
    "'objective' : ['binary:logistic'],# very important parameter check documentation\n",
    "'reg_alpha'  : [0], #default = 0\n",
    "'reg_lambda' : [1], # default = 1\n",
    "'scale_pos_weight' : [1], # default = 1\n",
    "'seed' : [None], #default = 0 , random number seed\n",
    "'silent' : [True],# same\n",
    "'subsample' : [.7],# default = 1 ,range(0,1)\n",
    "\n",
    "                                        }\n",
    "\n",
    "classifier_xgb = XGBClassifier()\n",
    "grid_search_xgb = GridSearchCV(estimator = classifier_xgb,\n",
    "                           param_grid = parameters,\n",
    "                           scoring = scoring_mec,\n",
    "                           cv = cross_vald,\n",
    "                           n_jobs = -1)\n",
    "grid_search_xgb = grid_search_xgb.fit(x, y)\n",
    "accuracy_xgb_grid = grid_search_xgb.best_score_\n",
    "bestparam_xgb_grid = grid_search_xgb.best_params_\n",
    "print (accuracy_xgb_grid)\n",
    "print (bestparam_xgb_grid)"
   ]
  },
  {
   "cell_type": "code",
   "execution_count": 60,
   "metadata": {},
   "outputs": [
    {
     "name": "stdout",
     "output_type": "stream",
     "text": [
      "0.507076245970922\n",
      "{'boosting_type': 'gbdt', 'class_weight': None, 'colsample_bytree': 1, 'importance_type': 'split', 'learning_rate': 0.1, 'max_depth': -110, 'min_child_samples': 10, 'min_child_weight': 0.001, 'min_split_gain': 0.009, 'n_estimators': 180, 'num_leaves': 31, 'objective': 'binary', 'random_state': None, 'reg_alpha': 5e-05, 'reg_lambda': 0.0, 'silent': True, 'subsample': 0.001, 'subsample_for_bin': 50000, 'subsample_freq': 0}\n"
     ]
    }
   ],
   "source": [
    "# 9. Grid Search with LIGHT_GadientBoostingM\n",
    "\n",
    "from lightgbm import LGBMClassifier\n",
    "from sklearn.model_selection import GridSearchCV\n",
    "\n",
    "parameters = {\n",
    "'boosting_type':['gbdt'],# {'gbdt','dart','rf','goss'}\n",
    "'class_weight':[None], # same\n",
    "'colsample_bytree' : [1],# float,default : 1\n",
    "'importance_type':['split'], # same\n",
    "'learning_rate':[0.1],# float ,default =.1\n",
    "'max_depth':[-110], # int ,default = -1\n",
    "'min_child_samples' : [10], # int , default = 20\n",
    "'min_child_weight' : [0.001], # float, default =.0001\n",
    "'min_split_gain' : [.009],# float, default = 0\n",
    "'n_estimators'  : [180], # int  , default = 100\n",
    "'num_leaves' : [31],# int ,default= 31\n",
    "'objective' : ['binary'],\n",
    "'random_state' : [None],# same\n",
    "'reg_alpha' : [0.0,.0001,.00001,.00005],# float, default : 0\n",
    "'reg_lambda' : [0.0,.00001,.00005],# float, default : 0\n",
    "'silent' : [True],# same\n",
    "'subsample' : [.001],# float, default =1\n",
    "'subsample_for_bin' : [50000],# int ,default = 200000\n",
    "'subsample_freq' : [0] # same\n",
    "        \n",
    "        }\n",
    "\n",
    "classifier_lgbm = LGBMClassifier()\n",
    "grid_search_lgbm = GridSearchCV(estimator = classifier_lgbm,\n",
    "                           param_grid = parameters,\n",
    "                           scoring = scoring_mec,\n",
    "                           cv = cross_vald,\n",
    "                           n_jobs = -1)\n",
    "grid_search_lgbm = grid_search_lgbm.fit(x, y)\n",
    "accuracy_lgbm_grid = grid_search_lgbm.best_score_\n",
    "bestparam_lgbm_grid = grid_search_lgbm.best_params_\n",
    "print (accuracy_lgbm_grid)\n",
    "print (bestparam_lgbm_grid)"
   ]
  },
  {
   "cell_type": "code",
   "execution_count": null,
   "metadata": {},
   "outputs": [],
   "source": []
  }
 ],
 "metadata": {
  "kernelspec": {
   "display_name": "Python 3",
   "language": "python",
   "name": "python3"
  },
  "language_info": {
   "codemirror_mode": {
    "name": "ipython",
    "version": 3
   },
   "file_extension": ".py",
   "mimetype": "text/x-python",
   "name": "python",
   "nbconvert_exporter": "python",
   "pygments_lexer": "ipython3",
   "version": "3.7.3"
  }
 },
 "nbformat": 4,
 "nbformat_minor": 2
}
